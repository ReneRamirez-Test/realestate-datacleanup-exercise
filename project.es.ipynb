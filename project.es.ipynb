{
  "cells": [
    {
      "attachments": {},
      "cell_type": "markdown",
      "id": "innocent-university",
      "metadata": {},
      "source": [
        "# Limpieza de bienes raíces\n",
        "\n",
        "Este es un conjunto de datos (dataset) reales que fue descargado usando técnicas de web scraping. La data contiene registros de **Fotocasa**, el cual es uno de los sitios más populares de bienes raíces en España. Por favor no hagas esto (web scraping) a no ser que sea para propósitos académicos.\n",
        "\n",
        "El dataset fue descargado hace algunos años por Henry Navarro y en ningún caso se obtuvo beneficio económico de ello.\n",
        "\n",
        "Contiene miles de datos de casas reales publicadas en la web www.fotocasa.com. Tu objetivo es extraer tanta información como sea posible con el conocimiento que tienes hasta ahora de ciencia de datos, por ejemplo ¿cuál es la casa más cara en todo el dataset?\n",
        "\n",
        "Empecemos precisamente con esa pregunta... ¡Buena suerte!"
      ]
    },
    {
      "attachments": {},
      "cell_type": "markdown",
      "id": "multiple-glass",
      "metadata": {},
      "source": [
        "#### Ejercicio 00. Lee el dataset assets/real_estate.csv e intenta visualizar la tabla (★☆☆)"
      ]
    },
    {
      "cell_type": "code",
      "execution_count": 11,
      "id": "5f47c093",
      "metadata": {},
      "outputs": [
        {
          "name": "stdout",
          "output_type": "stream",
          "text": [
            "El archivo ha sido exportado exitosamente como 'real_estate_export.csv'\n"
          ]
        }
      ],
      "source": [
        "\n",
        "import pandas as pd\n",
        "\n",
        "# Este archivo CSV contiene puntos y comas en lugar de comas como separadores\n",
        "ds = pd.read_csv('assets/real_estate.csv', sep=';')\n",
        "ds\n"
      ]
    },
    {
      "cell_type": "markdown",
      "id": "0102b338",
      "metadata": {},
      "source": [
        "test\n"
      ]
    },
    {
      "cell_type": "code",
      "execution_count": 2,
      "id": "frank-heath",
      "metadata": {},
      "outputs": [
        {
          "data": {
            "text/html": [
              "<div>\n",
              "<style scoped>\n",
              "    .dataframe tbody tr th:only-of-type {\n",
              "        vertical-align: middle;\n",
              "    }\n",
              "\n",
              "    .dataframe tbody tr th {\n",
              "        vertical-align: top;\n",
              "    }\n",
              "\n",
              "    .dataframe thead th {\n",
              "        text-align: right;\n",
              "    }\n",
              "</style>\n",
              "<table border=\"1\" class=\"dataframe\">\n",
              "  <thead>\n",
              "    <tr style=\"text-align: right;\">\n",
              "      <th></th>\n",
              "      <th>Unnamed: 0</th>\n",
              "      <th>id_realEstates</th>\n",
              "      <th>isNew</th>\n",
              "      <th>realEstate_name</th>\n",
              "      <th>phone_realEstate</th>\n",
              "      <th>url_inmueble</th>\n",
              "      <th>rooms</th>\n",
              "      <th>bathrooms</th>\n",
              "      <th>surface</th>\n",
              "      <th>price</th>\n",
              "      <th>...</th>\n",
              "      <th>level4Id</th>\n",
              "      <th>level5Id</th>\n",
              "      <th>level6Id</th>\n",
              "      <th>level7Id</th>\n",
              "      <th>level8Id</th>\n",
              "      <th>accuracy</th>\n",
              "      <th>latitude</th>\n",
              "      <th>longitude</th>\n",
              "      <th>zipCode</th>\n",
              "      <th>customZone</th>\n",
              "    </tr>\n",
              "  </thead>\n",
              "  <tbody>\n",
              "    <tr>\n",
              "      <th>0</th>\n",
              "      <td>1</td>\n",
              "      <td>153771986</td>\n",
              "      <td>False</td>\n",
              "      <td>ferrari 57 inmobiliaria</td>\n",
              "      <td>912177526.0</td>\n",
              "      <td>https://www.fotocasa.es/es/comprar/vivienda/ma...</td>\n",
              "      <td>3.0</td>\n",
              "      <td>2.0</td>\n",
              "      <td>103.0</td>\n",
              "      <td>195000</td>\n",
              "      <td>...</td>\n",
              "      <td>0</td>\n",
              "      <td>0</td>\n",
              "      <td>0</td>\n",
              "      <td>0</td>\n",
              "      <td>0</td>\n",
              "      <td>0</td>\n",
              "      <td>40,2948276786438</td>\n",
              "      <td>-3,44402412135624</td>\n",
              "      <td>NaN</td>\n",
              "      <td>NaN</td>\n",
              "    </tr>\n",
              "    <tr>\n",
              "      <th>1</th>\n",
              "      <td>2</td>\n",
              "      <td>153867863</td>\n",
              "      <td>False</td>\n",
              "      <td>tecnocasa fuenlabrada ferrocarril</td>\n",
              "      <td>916358736.0</td>\n",
              "      <td>https://www.fotocasa.es/es/comprar/vivienda/ma...</td>\n",
              "      <td>3.0</td>\n",
              "      <td>1.0</td>\n",
              "      <td>NaN</td>\n",
              "      <td>89000</td>\n",
              "      <td>...</td>\n",
              "      <td>0</td>\n",
              "      <td>0</td>\n",
              "      <td>0</td>\n",
              "      <td>0</td>\n",
              "      <td>0</td>\n",
              "      <td>1</td>\n",
              "      <td>40,28674</td>\n",
              "      <td>-3,79351</td>\n",
              "      <td>NaN</td>\n",
              "      <td>NaN</td>\n",
              "    </tr>\n",
              "    <tr>\n",
              "      <th>2</th>\n",
              "      <td>3</td>\n",
              "      <td>153430440</td>\n",
              "      <td>False</td>\n",
              "      <td>look find boadilla</td>\n",
              "      <td>916350408.0</td>\n",
              "      <td>https://www.fotocasa.es/es/comprar/vivienda/ma...</td>\n",
              "      <td>2.0</td>\n",
              "      <td>2.0</td>\n",
              "      <td>99.0</td>\n",
              "      <td>390000</td>\n",
              "      <td>...</td>\n",
              "      <td>0</td>\n",
              "      <td>0</td>\n",
              "      <td>0</td>\n",
              "      <td>0</td>\n",
              "      <td>0</td>\n",
              "      <td>0</td>\n",
              "      <td>40,4115646786438</td>\n",
              "      <td>-3,90662252135624</td>\n",
              "      <td>NaN</td>\n",
              "      <td>NaN</td>\n",
              "    </tr>\n",
              "    <tr>\n",
              "      <th>3</th>\n",
              "      <td>4</td>\n",
              "      <td>152776331</td>\n",
              "      <td>False</td>\n",
              "      <td>tecnocasa fuenlabrada ferrocarril</td>\n",
              "      <td>916358736.0</td>\n",
              "      <td>https://www.fotocasa.es/es/comprar/vivienda/ma...</td>\n",
              "      <td>3.0</td>\n",
              "      <td>1.0</td>\n",
              "      <td>86.0</td>\n",
              "      <td>89000</td>\n",
              "      <td>...</td>\n",
              "      <td>0</td>\n",
              "      <td>0</td>\n",
              "      <td>0</td>\n",
              "      <td>0</td>\n",
              "      <td>0</td>\n",
              "      <td>0</td>\n",
              "      <td>40,2853785786438</td>\n",
              "      <td>-3,79508142135624</td>\n",
              "      <td>NaN</td>\n",
              "      <td>NaN</td>\n",
              "    </tr>\n",
              "    <tr>\n",
              "      <th>4</th>\n",
              "      <td>5</td>\n",
              "      <td>153180188</td>\n",
              "      <td>False</td>\n",
              "      <td>ferrari 57 inmobiliaria</td>\n",
              "      <td>912177526.0</td>\n",
              "      <td>https://www.fotocasa.es/es/comprar/vivienda/ma...</td>\n",
              "      <td>2.0</td>\n",
              "      <td>2.0</td>\n",
              "      <td>106.0</td>\n",
              "      <td>172000</td>\n",
              "      <td>...</td>\n",
              "      <td>0</td>\n",
              "      <td>0</td>\n",
              "      <td>0</td>\n",
              "      <td>0</td>\n",
              "      <td>0</td>\n",
              "      <td>0</td>\n",
              "      <td>40,2998774864376</td>\n",
              "      <td>-3,45226301356237</td>\n",
              "      <td>NaN</td>\n",
              "      <td>NaN</td>\n",
              "    </tr>\n",
              "    <tr>\n",
              "      <th>...</th>\n",
              "      <td>...</td>\n",
              "      <td>...</td>\n",
              "      <td>...</td>\n",
              "      <td>...</td>\n",
              "      <td>...</td>\n",
              "      <td>...</td>\n",
              "      <td>...</td>\n",
              "      <td>...</td>\n",
              "      <td>...</td>\n",
              "      <td>...</td>\n",
              "      <td>...</td>\n",
              "      <td>...</td>\n",
              "      <td>...</td>\n",
              "      <td>...</td>\n",
              "      <td>...</td>\n",
              "      <td>...</td>\n",
              "      <td>...</td>\n",
              "      <td>...</td>\n",
              "      <td>...</td>\n",
              "      <td>...</td>\n",
              "      <td>...</td>\n",
              "    </tr>\n",
              "    <tr>\n",
              "      <th>15330</th>\n",
              "      <td>15331</td>\n",
              "      <td>153901377</td>\n",
              "      <td>False</td>\n",
              "      <td>infocasa consulting</td>\n",
              "      <td>911360461.0</td>\n",
              "      <td>https://www.fotocasa.es/es/comprar/vivienda/ma...</td>\n",
              "      <td>2.0</td>\n",
              "      <td>1.0</td>\n",
              "      <td>96.0</td>\n",
              "      <td>259470</td>\n",
              "      <td>...</td>\n",
              "      <td>0</td>\n",
              "      <td>0</td>\n",
              "      <td>0</td>\n",
              "      <td>0</td>\n",
              "      <td>0</td>\n",
              "      <td>0</td>\n",
              "      <td>40,45416</td>\n",
              "      <td>-3,70286</td>\n",
              "      <td>NaN</td>\n",
              "      <td>NaN</td>\n",
              "    </tr>\n",
              "    <tr>\n",
              "      <th>15331</th>\n",
              "      <td>15332</td>\n",
              "      <td>150394373</td>\n",
              "      <td>False</td>\n",
              "      <td>inmobiliaria pulpon</td>\n",
              "      <td>912788039.0</td>\n",
              "      <td>https://www.fotocasa.es/es/comprar/vivienda/ma...</td>\n",
              "      <td>3.0</td>\n",
              "      <td>1.0</td>\n",
              "      <td>150.0</td>\n",
              "      <td>165000</td>\n",
              "      <td>...</td>\n",
              "      <td>0</td>\n",
              "      <td>0</td>\n",
              "      <td>0</td>\n",
              "      <td>0</td>\n",
              "      <td>0</td>\n",
              "      <td>0</td>\n",
              "      <td>40,36652</td>\n",
              "      <td>-3,48951</td>\n",
              "      <td>NaN</td>\n",
              "      <td>NaN</td>\n",
              "    </tr>\n",
              "    <tr>\n",
              "      <th>15332</th>\n",
              "      <td>15333</td>\n",
              "      <td>153901397</td>\n",
              "      <td>False</td>\n",
              "      <td>tecnocasa torrelodones</td>\n",
              "      <td>912780348.0</td>\n",
              "      <td>https://www.fotocasa.es/es/comprar/vivienda/ma...</td>\n",
              "      <td>4.0</td>\n",
              "      <td>2.0</td>\n",
              "      <td>175.0</td>\n",
              "      <td>495000</td>\n",
              "      <td>...</td>\n",
              "      <td>0</td>\n",
              "      <td>0</td>\n",
              "      <td>0</td>\n",
              "      <td>0</td>\n",
              "      <td>0</td>\n",
              "      <td>0</td>\n",
              "      <td>40,57444</td>\n",
              "      <td>-3,92124</td>\n",
              "      <td>NaN</td>\n",
              "      <td>NaN</td>\n",
              "    </tr>\n",
              "    <tr>\n",
              "      <th>15333</th>\n",
              "      <td>15334</td>\n",
              "      <td>152607440</td>\n",
              "      <td>False</td>\n",
              "      <td>inmobiliaria pulpon</td>\n",
              "      <td>912788039.0</td>\n",
              "      <td>https://www.fotocasa.es/es/comprar/vivienda/ma...</td>\n",
              "      <td>3.0</td>\n",
              "      <td>2.0</td>\n",
              "      <td>101.0</td>\n",
              "      <td>195000</td>\n",
              "      <td>...</td>\n",
              "      <td>0</td>\n",
              "      <td>0</td>\n",
              "      <td>0</td>\n",
              "      <td>0</td>\n",
              "      <td>0</td>\n",
              "      <td>0</td>\n",
              "      <td>40,36967</td>\n",
              "      <td>-3,48105</td>\n",
              "      <td>NaN</td>\n",
              "      <td>NaN</td>\n",
              "    </tr>\n",
              "    <tr>\n",
              "      <th>15334</th>\n",
              "      <td>15335</td>\n",
              "      <td>153901356</td>\n",
              "      <td>False</td>\n",
              "      <td>infocasa consulting</td>\n",
              "      <td>911360461.0</td>\n",
              "      <td>https://www.fotocasa.es/es/comprar/vivienda/ma...</td>\n",
              "      <td>3.0</td>\n",
              "      <td>2.0</td>\n",
              "      <td>152.0</td>\n",
              "      <td>765000</td>\n",
              "      <td>...</td>\n",
              "      <td>0</td>\n",
              "      <td>0</td>\n",
              "      <td>0</td>\n",
              "      <td>0</td>\n",
              "      <td>0</td>\n",
              "      <td>0</td>\n",
              "      <td>40,45773</td>\n",
              "      <td>-3,69068</td>\n",
              "      <td>NaN</td>\n",
              "      <td>NaN</td>\n",
              "    </tr>\n",
              "  </tbody>\n",
              "</table>\n",
              "<p>15335 rows × 37 columns</p>\n",
              "</div>"
            ],
            "text/plain": [
              "       Unnamed: 0  id_realEstates  isNew                    realEstate_name  \\\n",
              "0               1       153771986  False            ferrari 57 inmobiliaria   \n",
              "1               2       153867863  False  tecnocasa fuenlabrada ferrocarril   \n",
              "2               3       153430440  False                 look find boadilla   \n",
              "3               4       152776331  False  tecnocasa fuenlabrada ferrocarril   \n",
              "4               5       153180188  False            ferrari 57 inmobiliaria   \n",
              "...           ...             ...    ...                                ...   \n",
              "15330       15331       153901377  False                infocasa consulting   \n",
              "15331       15332       150394373  False                inmobiliaria pulpon   \n",
              "15332       15333       153901397  False             tecnocasa torrelodones   \n",
              "15333       15334       152607440  False                inmobiliaria pulpon   \n",
              "15334       15335       153901356  False                infocasa consulting   \n",
              "\n",
              "       phone_realEstate                                       url_inmueble  \\\n",
              "0           912177526.0  https://www.fotocasa.es/es/comprar/vivienda/ma...   \n",
              "1           916358736.0  https://www.fotocasa.es/es/comprar/vivienda/ma...   \n",
              "2           916350408.0  https://www.fotocasa.es/es/comprar/vivienda/ma...   \n",
              "3           916358736.0  https://www.fotocasa.es/es/comprar/vivienda/ma...   \n",
              "4           912177526.0  https://www.fotocasa.es/es/comprar/vivienda/ma...   \n",
              "...                 ...                                                ...   \n",
              "15330       911360461.0  https://www.fotocasa.es/es/comprar/vivienda/ma...   \n",
              "15331       912788039.0  https://www.fotocasa.es/es/comprar/vivienda/ma...   \n",
              "15332       912780348.0  https://www.fotocasa.es/es/comprar/vivienda/ma...   \n",
              "15333       912788039.0  https://www.fotocasa.es/es/comprar/vivienda/ma...   \n",
              "15334       911360461.0  https://www.fotocasa.es/es/comprar/vivienda/ma...   \n",
              "\n",
              "       rooms  bathrooms  surface   price  ... level4Id level5Id level6Id  \\\n",
              "0        3.0        2.0    103.0  195000  ...        0        0        0   \n",
              "1        3.0        1.0      NaN   89000  ...        0        0        0   \n",
              "2        2.0        2.0     99.0  390000  ...        0        0        0   \n",
              "3        3.0        1.0     86.0   89000  ...        0        0        0   \n",
              "4        2.0        2.0    106.0  172000  ...        0        0        0   \n",
              "...      ...        ...      ...     ...  ...      ...      ...      ...   \n",
              "15330    2.0        1.0     96.0  259470  ...        0        0        0   \n",
              "15331    3.0        1.0    150.0  165000  ...        0        0        0   \n",
              "15332    4.0        2.0    175.0  495000  ...        0        0        0   \n",
              "15333    3.0        2.0    101.0  195000  ...        0        0        0   \n",
              "15334    3.0        2.0    152.0  765000  ...        0        0        0   \n",
              "\n",
              "      level7Id level8Id accuracy          latitude          longitude zipCode  \\\n",
              "0            0        0        0  40,2948276786438  -3,44402412135624     NaN   \n",
              "1            0        0        1          40,28674           -3,79351     NaN   \n",
              "2            0        0        0  40,4115646786438  -3,90662252135624     NaN   \n",
              "3            0        0        0  40,2853785786438  -3,79508142135624     NaN   \n",
              "4            0        0        0  40,2998774864376  -3,45226301356237     NaN   \n",
              "...        ...      ...      ...               ...                ...     ...   \n",
              "15330        0        0        0          40,45416           -3,70286     NaN   \n",
              "15331        0        0        0          40,36652           -3,48951     NaN   \n",
              "15332        0        0        0          40,57444           -3,92124     NaN   \n",
              "15333        0        0        0          40,36967           -3,48105     NaN   \n",
              "15334        0        0        0          40,45773           -3,69068     NaN   \n",
              "\n",
              "      customZone  \n",
              "0            NaN  \n",
              "1            NaN  \n",
              "2            NaN  \n",
              "3            NaN  \n",
              "4            NaN  \n",
              "...          ...  \n",
              "15330        NaN  \n",
              "15331        NaN  \n",
              "15332        NaN  \n",
              "15333        NaN  \n",
              "15334        NaN  \n",
              "\n",
              "[15335 rows x 37 columns]"
            ]
          },
          "execution_count": 2,
          "metadata": {},
          "output_type": "execute_result"
        }
      ],
      "source": [
        "import pandas as pd\n",
        "\n",
        "# Este archivo CSV contiene puntos y comas en lugar de comas como separadores\n",
        "ds = pd.read_csv('assets/real_estate.csv', sep=';')\n",
        "ds"
      ]
    },
    {
      "attachments": {},
      "cell_type": "markdown",
      "id": "latin-guest",
      "metadata": {},
      "source": [
        "#### Ejercicio 01. ¿Cuál es la casa más cara en todo el dataset? (★☆☆)\n",
        "\n",
        "Imprime la dirección y el precio de la casa seleccionada. Por ejemplo:\n",
        "\n",
        "`La casa con dirección en Calle del Prado, Nº20 es la más cara y su precio es de 5000000 USD`"
      ]
    },
    {
      "cell_type": "code",
      "execution_count": null,
      "id": "developing-optimum",
      "metadata": {},
      "outputs": [
        {
          "name": "stdout",
          "output_type": "stream",
          "text": [
            "El precio más alto es: 8500000.0\n",
            "Detalles de la casa más cara:\n",
            "Unnamed: 0                                                      13111\n",
            "id_realEstates                                              132042636\n",
            "isNew                                                           False\n",
            "realEstate_name                            engel volkers torrelodones\n",
            "phone_realEstate                                          911798512.0\n",
            "url_inmueble        https://www.fotocasa.es/es/comprar/vivienda/vi...\n",
            "rooms                                                            19.0\n",
            "bathrooms                                                         NaN\n",
            "surface                                                           NaN\n",
            "price                                                       8500000.0\n",
            "date                                             2019-12-19T12:29:00Z\n",
            "description         El Palacio de El Enebral, la finca fue propied...\n",
            "address                                                   El Escorial\n",
            "country                                                        España\n",
            "level1                                                         Madrid\n",
            "level2                                                         Madrid\n",
            "level3                                                  Zona Noroeste\n",
            "level4                                           El Escorial, Zona de\n",
            "level5                                                    El Escorial\n",
            "level6                                                            NaN\n",
            "level7                                             Centro - Manquilla\n",
            "level8                                                            NaN\n",
            "upperLevel                                         Centro - Manquilla\n",
            "countryId                                                           0\n",
            "level1Id                                                            0\n",
            "level2Id                                                            0\n",
            "level3Id                                                            0\n",
            "level4Id                                                            0\n",
            "level5Id                                                            0\n",
            "level6Id                                                            0\n",
            "level7Id                                                            0\n",
            "level8Id                                                            0\n",
            "accuracy                                                            0\n",
            "latitude                                             40,5830801751782\n",
            "longitude                                           -4,12951942848611\n",
            "zipCode                                                           NaN\n",
            "customZone                                                        NaN\n",
            "Name: 13110, dtype: object\n"
          ]
        }
      ],
      "source": [
        "import pandas as pd\n",
        "\n",
        "# Cargar el archivo CSV con separador de punto y coma\n",
        "ds = pd.read_csv('assets/real_estate.csv', sep=';')\n",
        "\n",
        "# Convertir la columna 'price' procesando el formato europeo\n",
        "ds['price'] = ds['price'].astype(str).str.replace('.', '', regex=False).str.replace(',', '.', regex=False).astype(float)\n",
        "\n",
        "# Verificar el precio más alto\n",
        "precio_mas_alto = ds['price'].max()\n",
        "\n",
        "# Mostrar el precio más alto\n",
        "print(f\"El precio más alto es: {precio_mas_alto}\")\n",
        "\n",
        "# Encontrar la fila de la casa con el precio más alto\n",
        "casa_mas_cara = ds.loc[ds['price'].idxmax()]\n",
        "print(\"Detalles de la casa más cara:\")\n",
        "print(casa_mas_cara)\n"
      ]
    },
    {
      "attachments": {},
      "cell_type": "markdown",
      "id": "lesser-cosmetic",
      "metadata": {},
      "source": [
        "#### Ejercicio 02. ¿Cuál es la casa más barata del dataset? (★☆☆)\n",
        "\n",
        "Imprime la dirección y el precio de la casa seleccionada. Por ejemplo:\n",
        "\n",
        "`La casa con dirección en Calle Alcalá, Nº58 es la más barata y su precio es de 12000 USD`"
      ]
    },
    {
      "cell_type": "code",
      "execution_count": 17,
      "id": "lovely-oasis",
      "metadata": {},
      "outputs": [
        {
          "name": "stdout",
          "output_type": "stream",
          "text": [
            "El precio más bajo es: 0.0\n",
            "Detalles de la casa más barata:\n",
            "Unnamed: 0                                                        367\n",
            "id_realEstates                                              153637952\n",
            "isNew                                                           False\n",
            "realEstate_name                                                esalje\n",
            "phone_realEstate                                          912786497.0\n",
            "url_inmueble        https://www.fotocasa.es/es/comprar/vivienda/ma...\n",
            "rooms                                                             4.0\n",
            "bathrooms                                                         4.0\n",
            "surface                                                         262.0\n",
            "price                                                             0.0\n",
            "date                                      2019-12-28T18:52:25.965658Z\n",
            "description         ESALJE vende amplio pareado de 268 m2. distrib...\n",
            "address                                                         Parla\n",
            "country                                                        España\n",
            "level1                                                         Madrid\n",
            "level2                                                         Madrid\n",
            "level3                                             Zona Sur de Madrid\n",
            "level4                                                 Parla, Zona de\n",
            "level5                                                          Parla\n",
            "level6                                                            NaN\n",
            "level7                                          Fuentebella - El Nido\n",
            "level8                                                            NaN\n",
            "upperLevel                                      Fuentebella - El Nido\n",
            "countryId                                                           0\n",
            "level1Id                                                            0\n",
            "level2Id                                                            0\n",
            "level3Id                                                            0\n",
            "level4Id                                                            0\n",
            "level5Id                                                            0\n",
            "level6Id                                                            0\n",
            "level7Id                                                            0\n",
            "level8Id                                                            0\n",
            "accuracy                                                            0\n",
            "latitude                                                     40,23202\n",
            "longitude                                                    -3,78132\n",
            "zipCode                                                           NaN\n",
            "customZone                                                        NaN\n",
            "Name: 366, dtype: object\n"
          ]
        }
      ],
      "source": [
        "import pandas as pd\n",
        "\n",
        "# Cargar el archivo CSV con separador de punto y coma\n",
        "ds = pd.read_csv('assets/real_estate.csv', sep=';')\n",
        "\n",
        "# Convertir la columna 'price' procesando el formato europeo\n",
        "ds['price'] = ds['price'].astype(str).str.replace('.', '', regex=False).str.replace(',', '.', regex=False).astype(float)\n",
        "\n",
        "# Verificar el precio más alto\n",
        "precio_mas_bajo = ds['price'].min()\n",
        "\n",
        "# Mostrar el precio más baoj\n",
        "print(f\"El precio más bajo es: {precio_mas_bajo}\")\n",
        "\n",
        "# Encontrar la fila de la casa con el precio más bajo\n",
        "casa_mas_barata = ds.loc[ds['price'].idxmin()]\n",
        "print(\"Detalles de la casa más barata:\")\n",
        "print(casa_mas_barata)\n"
      ]
    },
    {
      "attachments": {},
      "cell_type": "markdown",
      "id": "compliant-fellowship",
      "metadata": {},
      "source": [
        "#### Ejercicio 03. ¿Cuál es la casa más grande y la más pequeña del dataset? (★☆☆)\n",
        "\n",
        "Imprime la dirección y el área de las casas seleccionadas. Por ejemplo:\n",
        "\n",
        "`La casa más grande está ubicada en Calle Gran Vía, Nº38 y su superficie es de 5000 metros`\n",
        "\n",
        "`La casa más pequeña está ubicada en Calle Mayor, Nº12 y su superficie es de 200 metros`"
      ]
    },
    {
      "cell_type": "code",
      "execution_count": 19,
      "id": "every-tiffany",
      "metadata": {},
      "outputs": [
        {
          "name": "stdout",
          "output_type": "stream",
          "text": [
            "La casa con mayor supericie /mts2 es: 249000.0\n",
            "La casa con menor superficie /mts2 es:15.0\n"
          ]
        }
      ],
      "source": [
        "import pandas as pd\n",
        "\n",
        "# Cargar el archivo CSV con separador de punto y coma\n",
        "ds = pd.read_csv('assets/real_estate.csv', sep=';')\n",
        "\n",
        "# Verificar la casa mas grander\n",
        "csa_mas_grande = ds['surface'].max()\n",
        "csa_mas_pequena= ds['surface'].min()\n",
        "\n",
        "# Mostrar el precio más baoj\n",
        "print(f\"La casa con mayor supericie /mts2 es: {csa_mas_grande}\")\n",
        "print(f\"La casa con menor superficie /mts2 es:{csa_mas_pequena}\")\n",
        "\n"
      ]
    },
    {
      "attachments": {},
      "cell_type": "markdown",
      "id": "danish-spirit",
      "metadata": {},
      "source": [
        "#### Ejercicio 04. ¿Cuantas poblaciones (columna level5) contiene el dataset? (★☆☆)\n",
        "\n",
        "Imprime el nombre de las poblaciones separadas por coma. Por ejemplo:\n",
        "\n",
        "`> print(populations)`\n",
        "\n",
        "`population1, population2, population3, ...`"
      ]
    },
    {
      "cell_type": "code",
      "execution_count": 25,
      "id": "exciting-accreditation",
      "metadata": {},
      "outputs": [
        {
          "name": "stdout",
          "output_type": "stream",
          "text": [
            "Total poblaciones unicas: 168\n",
            "Arganda del ReyPoblaciones unicas:,FuenlabradaPoblaciones unicas:,Boadilla del MontePoblaciones unicas:,Las Rozas de MadridPoblaciones unicas:, Madrid CapitalPoblaciones unicas:,Villaviciosa de OdónPoblaciones unicas:,PintoPoblaciones unicas:,ValdemoroPoblaciones unicas:,NavalcarneroPoblaciones unicas:,Pozuelo de AlarcónPoblaciones unicas:,Torrejón de ArdozPoblaciones unicas:,NavalagamellaPoblaciones unicas:,San Sebastián de los ReyesPoblaciones unicas:,Rivas-vaciamadridPoblaciones unicas:,AlpedretePoblaciones unicas:,MóstolesPoblaciones unicas:,San Fernando de HenaresPoblaciones unicas:,CosladaPoblaciones unicas:,Becerril de la SierraPoblaciones unicas:,Alcalá de HenaresPoblaciones unicas:,ChinchónPoblaciones unicas:,ParlaPoblaciones unicas:,AlcorcónPoblaciones unicas:,El EscorialPoblaciones unicas:,LeganésPoblaciones unicas:,PedrezuelaPoblaciones unicas:,MajadahondaPoblaciones unicas:,Villanueva de la CañadaPoblaciones unicas:,Villanueva del PardilloPoblaciones unicas:,TorrelodonesPoblaciones unicas:,MoralzarzalPoblaciones unicas:,Mejorada del CampoPoblaciones unicas:,AranjuezPoblaciones unicas:,CorpaPoblaciones unicas:,GetafePoblaciones unicas:,Velilla de San AntonioPoblaciones unicas:,Sevilla la NuevaPoblaciones unicas:,San Martín de la VegaPoblaciones unicas:,VillalbillaPoblaciones unicas:,Collado VillalbaPoblaciones unicas:,AlcobendasPoblaciones unicas:,El Molar (Madrid)Poblaciones unicas:,Moraleja de EnmedioPoblaciones unicas:,AlgetePoblaciones unicas:,Campo RealPoblaciones unicas:,Torrejón de la CalzadaPoblaciones unicas:,Colmenar ViejoPoblaciones unicas:,ValdemorilloPoblaciones unicas:,Fuente El Saz de JaramaPoblaciones unicas:,Tres CantosPoblaciones unicas:,Arroyomolinos (Madrid)Poblaciones unicas:,GriñónPoblaciones unicas:,Paracuellos de JaramaPoblaciones unicas:,GuadarramaPoblaciones unicas:,TitulciaPoblaciones unicas:,GalapagarPoblaciones unicas:,Collado MedianoPoblaciones unicas:,Los MolinosPoblaciones unicas:,San Lorenzo de El EscorialPoblaciones unicas:,LoechesPoblaciones unicas:,San Martín de ValdeiglesiasPoblaciones unicas:,Navas del ReyPoblaciones unicas:,BustarviejoPoblaciones unicas:,Manzanares El RealPoblaciones unicas:,CarabañaPoblaciones unicas:,CasarrubuelosPoblaciones unicas:,CercedillaPoblaciones unicas:,Fresnedillas de la OlivaPoblaciones unicas:,ValdemaquedaPoblaciones unicas:,Robledo de ChavelaPoblaciones unicas:,Miraflores de la SierraPoblaciones unicas:,Humanes de MadridPoblaciones unicas:,Valdetorres de JaramaPoblaciones unicas:,San Agustín del GuadalixPoblaciones unicas:,CiempozuelosPoblaciones unicas:,Camarma de EsteruelasPoblaciones unicas:,Torres de la AlamedaPoblaciones unicas:,Talamanca de JaramaPoblaciones unicas:,El AtazarPoblaciones unicas:,Hoyo de ManzanaresPoblaciones unicas:,El Boalo - Cerceda – MataelpinoPoblaciones unicas:,El ÁlamoPoblaciones unicas:,ValdilechaPoblaciones unicas:,Valdeolmos-AlalpardoPoblaciones unicas:,Guadalix de la SierraPoblaciones unicas:,Belmonte de TajoPoblaciones unicas:,El VellónPoblaciones unicas:,BrunetePoblaciones unicas:,RedueñaPoblaciones unicas:,Morata de TajuñaPoblaciones unicas:,TielmesPoblaciones unicas:,Gargantilla del LozoyaPoblaciones unicas:,MecoPoblaciones unicas:,VenturadaPoblaciones unicas:,QuijornaPoblaciones unicas:,CenicientosPoblaciones unicas:,Torrejón de VelascoPoblaciones unicas:,NavacerradaPoblaciones unicas:,Santa María de la AlamedaPoblaciones unicas:,Orusco de TajuñaPoblaciones unicas:,Daganzo de ArribaPoblaciones unicas:,VillamantaPoblaciones unicas:,AnchueloPoblaciones unicas:,ValdaracetePoblaciones unicas:,AjalvirPoblaciones unicas:,Los Santos de la HumosaPoblaciones unicas:,Villamanrique de TajoPoblaciones unicas:,Colmenar de OrejaPoblaciones unicas:,Villa del PradoPoblaciones unicas:,Fuentidueña de TajoPoblaciones unicas:,Colmenar del ArroyoPoblaciones unicas:,ValdelagunaPoblaciones unicas:,Cubas de la SagraPoblaciones unicas:,ValdeaveroPoblaciones unicas:,Aldea del FresnoPoblaciones unicas:,RibatejadaPoblaciones unicas:,TorrelagunaPoblaciones unicas:,BatresPoblaciones unicas:,Pezuela de las TorresPoblaciones unicas:,ColmenarejoPoblaciones unicas:,Serranillos del VallePoblaciones unicas:,CobeñaPoblaciones unicas:,Soto del RealPoblaciones unicas:,El BerruecoPoblaciones unicas:,Villanueva de PeralesPoblaciones unicas:,Fresno de Torote - SerracinesPoblaciones unicas:,Pozuelo del ReyPoblaciones unicas:,Pelayos de la PresaPoblaciones unicas:,La CabreraPoblaciones unicas:,Nuevo BaztánPoblaciones unicas:,Perales de TajuñaPoblaciones unicas:,VillaconejosPoblaciones unicas:,Villarejo de SalvanésPoblaciones unicas:,Cadalso de los VidriosPoblaciones unicas:,SantorcazPoblaciones unicas:,MadarcosPoblaciones unicas:,Garganta de los MontesPoblaciones unicas:,Puentes ViejasPoblaciones unicas:,Torremocha de JaramaPoblaciones unicas:,ValdemancoPoblaciones unicas:,BraojosPoblaciones unicas:,Lozoyuela-navas-sieteiglesiasPoblaciones unicas:,Piñuécar-gandullasPoblaciones unicas:,ValdepiélagosPoblaciones unicas:,Valverde de AlcaláPoblaciones unicas:,Villar del OlmoPoblaciones unicas:,VillamantillaPoblaciones unicas:,Horcajo de la SierraPoblaciones unicas:,GasconesPoblaciones unicas:,ZarzalejoPoblaciones unicas:,Villavieja del LozoyaPoblaciones unicas:,Brea de TajoPoblaciones unicas:,EstremeraPoblaciones unicas:,ChapineríaPoblaciones unicas:,NavarredondaPoblaciones unicas:,PatonesPoblaciones unicas:,AmbitePoblaciones unicas:,NavalafuentePoblaciones unicas:,LozoyaPoblaciones unicas:,CanenciaPoblaciones unicas:,Cabanillas de la SierraPoblaciones unicas:,Buitrago del LozoyaPoblaciones unicas:,Fresno de TorotePoblaciones unicas:,RobregordoPoblaciones unicas:,Pinilla del VallePoblaciones unicas:,RascafríaPoblaciones unicas:,La HiruelaPoblaciones unicas:,Montejo de la Sierra\n"
          ]
        }
      ],
      "source": [
        "import pandas as pd\n",
        "\n",
        "# Cargar el archivo CSV con separador de punto y coma\n",
        "ds = pd.read_csv('assets/real_estate.csv', sep=';')\n",
        "\n",
        "poblacion= ds['level5'].unique()\n",
        "\n",
        "Ttal_poblacion= len(poblacion)\n",
        "\n",
        "print(f'Total poblaciones unicas: {Ttal_poblacion}')\n",
        "print('Poblaciones unicas:'\",\".join(map(str,poblacion)))\n",
        "\n",
        "\n"
      ]
    },
    {
      "attachments": {},
      "cell_type": "markdown",
      "id": "crazy-blame",
      "metadata": {},
      "source": [
        "#### Ejercicio 05. ¿El dataset contiene valores no admitidos (NAs)? (★☆☆)\n",
        "\n",
        "Imprima un booleano (`True` o `False`) seguido de la fila/columna que contiene el NAs."
      ]
    },
    {
      "cell_type": "code",
      "execution_count": null,
      "id": "transparent-poetry",
      "metadata": {},
      "outputs": [
        {
          "name": "stdout",
          "output_type": "stream",
          "text": [
            "True\n",
            "Columnas con valores NA:['realEstate_name', 'phone_realEstate', 'rooms', 'bathrooms', 'surface', 'description', 'level4', 'level6', 'level7', 'level8', 'zipCode', 'customZone']\n",
            "Filas con valores NA:\n",
            "       Unnamed: 0  id_realEstates  isNew                    realEstate_name  \\\n",
            "0               1       153771986  False            ferrari 57 inmobiliaria   \n",
            "1               2       153867863  False  tecnocasa fuenlabrada ferrocarril   \n",
            "2               3       153430440  False                 look find boadilla   \n",
            "3               4       152776331  False  tecnocasa fuenlabrada ferrocarril   \n",
            "4               5       153180188  False            ferrari 57 inmobiliaria   \n",
            "...           ...             ...    ...                                ...   \n",
            "15330       15331       153901377  False                infocasa consulting   \n",
            "15331       15332       150394373  False                inmobiliaria pulpon   \n",
            "15332       15333       153901397  False             tecnocasa torrelodones   \n",
            "15333       15334       152607440  False                inmobiliaria pulpon   \n",
            "15334       15335       153901356  False                infocasa consulting   \n",
            "\n",
            "       phone_realEstate                                       url_inmueble  \\\n",
            "0           912177526.0  https://www.fotocasa.es/es/comprar/vivienda/ma...   \n",
            "1           916358736.0  https://www.fotocasa.es/es/comprar/vivienda/ma...   \n",
            "2           916350408.0  https://www.fotocasa.es/es/comprar/vivienda/ma...   \n",
            "3           916358736.0  https://www.fotocasa.es/es/comprar/vivienda/ma...   \n",
            "4           912177526.0  https://www.fotocasa.es/es/comprar/vivienda/ma...   \n",
            "...                 ...                                                ...   \n",
            "15330       911360461.0  https://www.fotocasa.es/es/comprar/vivienda/ma...   \n",
            "15331       912788039.0  https://www.fotocasa.es/es/comprar/vivienda/ma...   \n",
            "15332       912780348.0  https://www.fotocasa.es/es/comprar/vivienda/ma...   \n",
            "15333       912788039.0  https://www.fotocasa.es/es/comprar/vivienda/ma...   \n",
            "15334       911360461.0  https://www.fotocasa.es/es/comprar/vivienda/ma...   \n",
            "\n",
            "       rooms  bathrooms  surface   price  ... level4Id level5Id level6Id  \\\n",
            "0        3.0        2.0    103.0  195000  ...        0        0        0   \n",
            "1        3.0        1.0      NaN   89000  ...        0        0        0   \n",
            "2        2.0        2.0     99.0  390000  ...        0        0        0   \n",
            "3        3.0        1.0     86.0   89000  ...        0        0        0   \n",
            "4        2.0        2.0    106.0  172000  ...        0        0        0   \n",
            "...      ...        ...      ...     ...  ...      ...      ...      ...   \n",
            "15330    2.0        1.0     96.0  259470  ...        0        0        0   \n",
            "15331    3.0        1.0    150.0  165000  ...        0        0        0   \n",
            "15332    4.0        2.0    175.0  495000  ...        0        0        0   \n",
            "15333    3.0        2.0    101.0  195000  ...        0        0        0   \n",
            "15334    3.0        2.0    152.0  765000  ...        0        0        0   \n",
            "\n",
            "      level7Id level8Id accuracy          latitude          longitude zipCode  \\\n",
            "0            0        0        0  40,2948276786438  -3,44402412135624     NaN   \n",
            "1            0        0        1          40,28674           -3,79351     NaN   \n",
            "2            0        0        0  40,4115646786438  -3,90662252135624     NaN   \n",
            "3            0        0        0  40,2853785786438  -3,79508142135624     NaN   \n",
            "4            0        0        0  40,2998774864376  -3,45226301356237     NaN   \n",
            "...        ...      ...      ...               ...                ...     ...   \n",
            "15330        0        0        0          40,45416           -3,70286     NaN   \n",
            "15331        0        0        0          40,36652           -3,48951     NaN   \n",
            "15332        0        0        0          40,57444           -3,92124     NaN   \n",
            "15333        0        0        0          40,36967           -3,48105     NaN   \n",
            "15334        0        0        0          40,45773           -3,69068     NaN   \n",
            "\n",
            "      customZone  \n",
            "0            NaN  \n",
            "1            NaN  \n",
            "2            NaN  \n",
            "3            NaN  \n",
            "4            NaN  \n",
            "...          ...  \n",
            "15330        NaN  \n",
            "15331        NaN  \n",
            "15332        NaN  \n",
            "15333        NaN  \n",
            "15334        NaN  \n",
            "\n",
            "[15335 rows x 37 columns]\n"
          ]
        }
      ],
      "source": [
        "import pandas as pd\n",
        "\n",
        "# Cargar el archivo CSV con separador de punto y coma\n",
        "ds = pd.read_csv('assets/real_estate.csv', sep=';')\n",
        "\n",
        "validacion_na= ds.isnull().values.any()\n",
        "print(validacion_na)\n",
        "\n",
        "if validacion_na :\n",
        "    columna_con_valores_na= ds.columns[ds.isnull().any()].tolist()\n",
        "    print(f'Columnas con valores NA:{columna_con_valores_na}')\n",
        "\n",
        "    filas_con_na= ds[ds.isnull().any(axis=1)]\n",
        "    print('Filas con valores NA:')\n",
        "    print(filas_con_na)\n"
      ]
    },
    {
      "attachments": {},
      "cell_type": "markdown",
      "id": "italic-hydrogen",
      "metadata": {},
      "source": [
        "#### Ejercicio 06. Elimina los NAs del dataset, si aplica (★★☆)\n",
        "\n",
        "Imprima una comparación entre las dimensiones del DataFrame original versus el DataFrame después de las eliminaciones.\n"
      ]
    },
    {
      "cell_type": "code",
      "execution_count": 29,
      "id": "administrative-roads",
      "metadata": {},
      "outputs": [
        {
          "name": "stdout",
          "output_type": "stream",
          "text": [
            "dimensiones oroginales:(15335, 37)\n",
            "dimensiones depuradas d NAs:(0, 37)\n"
          ]
        }
      ],
      "source": [
        "import pandas as pd\n",
        "\n",
        "# Cargar el archivo CSV con separador de punto y coma\n",
        "ds = pd.read_csv('assets/real_estate.csv', sep=';')\n",
        "\n",
        "\n",
        "dimesion_original= ds.shape\n",
        "ds_limpio= ds.dropna()\n",
        "dimension_limpia= ds_limpio.shape\n",
        "\n",
        "print(f'dimensiones oroginales:{dimesion_original}')\n",
        "print(f'dimensiones depuradas d NAs:{dimension_limpia}')\n",
        "\n",
        "\n"
      ]
    },
    {
      "attachments": {},
      "cell_type": "markdown",
      "id": "middle-china",
      "metadata": {},
      "source": [
        "#### Ejercicio 07. ¿Cuál la media de precios en la población (columna level5) de \"Arroyomolinos (Madrid)\"? (★★☆)\n",
        "\n",
        "Imprima el valor obtenido."
      ]
    },
    {
      "cell_type": "code",
      "execution_count": 32,
      "id": "nuclear-belief",
      "metadata": {},
      "outputs": [
        {
          "name": "stdout",
          "output_type": "stream",
          "text": [
            "La media de precios en Arroyomolinos (Madrid) es: 294541.59854014596\n"
          ]
        }
      ],
      "source": [
        "import pandas as pd\n",
        "\n",
        "# Cargar el archivo CSV con separador de punto y coma\n",
        "ds = pd.read_csv('assets/real_estate.csv', sep=';')\n",
        "\n",
        "#ds['price'] = ds['price'].astype(str).str.replace('.', '', regex=False).str.replace(',', '.', regex=False).astype(float) # Convertir el campo 'price' procesando el formato europeo\n",
        "\n",
        "filtro_arroyomolinos = ds['level5'] == 'Arroyomolinos (Madrid)' # Filtrar el DataFrame para la población 'Arroyomolinos (Madrid)'\n",
        "ds_arroyomolinos = ds[filtro_arroyomolinos]\n",
        "media_poblacion_arroyomolinos = ds_arroyomolinos['price'].mean() # Calcular la media de precios en la población\n",
        "print(f\"La media de precios en Arroyomolinos (Madrid) es: {media_poblacion_arroyomolinos}\")\n",
        "\n",
        "\n"
      ]
    },
    {
      "attachments": {},
      "cell_type": "markdown",
      "id": "concerned-radical",
      "metadata": {},
      "source": [
        "#### Ejercicio 08. Trazar el histograma de los precios para la población (level5 column) de \"Arroyomolinos (Madrid)\" y explica qué observas (★★☆)\n",
        "\n",
        "Imprime el histograma de los precios y escribe en la celda del Markdown un breve análisis del trazado.\n"
      ]
    },
    {
      "cell_type": "code",
      "execution_count": 34,
      "id": "sudden-message",
      "metadata": {},
      "outputs": [
        {
          "data": {
            "text/plain": [
              "<function matplotlib.pyplot.show(close=None, block=None)>"
            ]
          },
          "execution_count": 34,
          "metadata": {},
          "output_type": "execute_result"
        },
        {
          "data": {
            "image/png": "[encoded data removed]",
            "text/plain": [
              "<Figure size 1000x600 with 1 Axes>"
            ]
          },
          "metadata": {},
          "output_type": "display_data"
        }
      ],
      "source": [
        "import pandas as pd\n",
        "import matplotlib.pyplot as plt\n",
        "\n",
        "ds = pd.read_csv('assets/real_estate.csv', sep=';')\n",
        "\n",
        "# Convertir el campo 'price' procesando el formato europeo\n",
        "ds['price'] = ds['price'].astype(str).str.replace('.', '', regex=False).str.replace(',', '.', regex=False).astype(float)\n",
        "\n",
        "filtro_arroyomolinos= ds['level5']==\"Arroyomolinos (Madrid)\"\n",
        "ds_arroyomolinos=ds[filtro_arroyomolinos]\n",
        "plt.figure(figsize=(10,6))\n",
        "plt.hist(ds_arroyomolinos['price'],bins=10,color='skyblue',edgecolor='black')\n",
        "plt.title(f'Histrograma de precios Arroyomolinos(Madrid)')\n",
        "plt.xlabel(\"Precio\")\n",
        "plt.ylabel(\"Frecuencia\", fontsize= 12)\n",
        "plt.grid(axis='y', linestyle= '--', alpha=0.7)\n",
        "plt.show \n",
        "\n",
        "\n",
        "\n",
        "\n",
        "\n",
        "\n",
        "\n",
        "\n"
      ]
    },
    {
      "cell_type": "markdown",
      "id": "5097f094",
      "metadata": {},
      "source": [
        "A) Los precios para esa area muestra un sesgo hacia la derecha en donde los precios tienden a elevarse mas.\n"
      ]
    },
    {
      "cell_type": "markdown",
      "id": "101d7941",
      "metadata": {},
      "source": [
        "B)La mayor cantidad de viviendas se concentran en un rango de precios desde los 200,000.00 a 300,000.00"
      ]
    },
    {
      "cell_type": "markdown",
      "id": "cc7389fd",
      "metadata": {},
      "source": [
        "\n"
      ]
    },
    {
      "attachments": {},
      "cell_type": "markdown",
      "id": "impressed-combination",
      "metadata": {},
      "source": [
        "**TODO: Markdown**. Para escribir aquí, haz doble clic en esta celda, elimina este contenido y coloca lo que quieras escribir. Luego ejecuta la celda."
      ]
    },
    {
      "attachments": {},
      "cell_type": "markdown",
      "id": "actual-edinburgh",
      "metadata": {},
      "source": [
        "#### Ejercicio 09. ¿Son los precios promedios de \"Valdemorillo\" y \"Galapagar\" los mismos? (★★☆)\n",
        "\n",
        "Imprime ambos promedios y escribe una conclusión sobre ellos."
      ]
    },
    {
      "cell_type": "code",
      "execution_count": 43,
      "id": "numeric-commerce",
      "metadata": {},
      "outputs": [
        {
          "name": "stdout",
          "output_type": "stream",
          "text": [
            "La media de precios en ValdeMorillo es: 363860.2931034483\n",
            "La media de precios en Galapagar es: 360063.20238095237\n"
          ]
        }
      ],
      "source": [
        "import pandas as pd\n",
        "\n",
        "# Cargar el archivo CSV con separador de punto y coma\n",
        "ds = pd.read_csv('assets/real_estate.csv', sep=';')\n",
        "\n",
        "ds['price'] = ds['price'].astype(str).str.replace('.', '', regex=False).str.replace(',', '.', regex=False).astype(float) # Convertir el campo 'price' procesando el formato europeo\n",
        "\n",
        "filtro_ValdeMorillo = ds['level5'] == 'Valdemorillo' # Filtrar el DataFrame para la población Valdemorillo\n",
        "ds_VM= ds[filtro_ValdeMorillo]\n",
        "media_price_VM= ds_VM['price'].mean() # Calcular la media de precios en Valdemorillo\n",
        "print(f\"La media de precios en ValdeMorillo es: {media_price_VM}\")\n",
        "\n",
        "\n",
        "filtro_Galapagar= ds['level5']=='Galapagar'\n",
        "ds_GP= ds[filtro_Galapagar]\n",
        "media_price_GP=ds_GP['price'].mean()\n",
        "print(f\"La media de precios en Galapagar es: {media_price_GP}\")\n"
      ]
    },
    {
      "cell_type": "markdown",
      "id": "ed481635",
      "metadata": {},
      "source": [
        "El precio promedio en Valdemorillo es mayor al precio promedio de Galapagar."
      ]
    },
    {
      "attachments": {},
      "cell_type": "markdown",
      "id": "lonely-article",
      "metadata": {},
      "source": [
        "#### Ejercicio 10. ¿Son los promedios de precio por metro cuadrado (precio/m2) de \"Valdemorillo\" y \"Galapagar\" los mismos? (★★☆)\n",
        "\n",
        "Imprime ambos promedios de precio por metro cuadrado y escribe una conclusión sobre ellos.\n",
        "\n",
        "Pista: Crea una nueva columna llamada `pps` (*price per square* o precio por metro cuadrado) y luego analiza los valores."
      ]
    },
    {
      "cell_type": "code",
      "execution_count": 44,
      "id": "hourly-globe",
      "metadata": {},
      "outputs": [
        {
          "name": "stdout",
          "output_type": "stream",
          "text": [
            "             level5          pps\n",
            "390    Valdemorillo  1137.615061\n",
            "545    Valdemorillo  1137.615061\n",
            "576       Galapagar  1319.948896\n",
            "617       Galapagar  1319.948896\n",
            "731       Galapagar  1319.948896\n",
            "...             ...          ...\n",
            "14850     Galapagar  1319.948896\n",
            "14887  Valdemorillo  1137.615061\n",
            "14911  Valdemorillo  1137.615061\n",
            "14913  Valdemorillo  1137.615061\n",
            "15059  Valdemorillo  1137.615061\n",
            "\n",
            "[142 rows x 2 columns]\n"
          ]
        }
      ],
      "source": [
        "import pandas as pd\n",
        "\n",
        "# Cargar el archivo CSV con separador de punto y coma\n",
        "ds = pd.read_csv('assets/real_estate.csv', sep=';')\n",
        "\n",
        "# Convertir el campo 'price' procesando el formato europeo\n",
        "ds['price'] = ds['price'].astype(str).str.replace('.', '', regex=False).str.replace(',', '.', regex=False).astype(float)\n",
        "\n",
        "# Asegurarse de que 'surface' sea numérico\n",
        "ds['surface'] = pd.to_numeric(ds['surface'], errors='coerce')\n",
        "\n",
        "# Filtrar las poblaciones \"Valdemorillo\" y \"Galapagar\"\n",
        "valdemorillo = ds[ds['level5'] == 'Valdemorillo']\n",
        "galapagar = ds[ds['level5'] == 'Galapagar']\n",
        "\n",
        "# Calcular el total de precios y superficies para Valdemorillo\n",
        "total_precio_valdemorillo = valdemorillo['price'].sum()\n",
        "total_superficie_valdemorillo = valdemorillo['surface'].sum()\n",
        "promedio_valdemorillo = total_precio_valdemorillo / total_superficie_valdemorillo\n",
        "\n",
        "# Calcular el total de precios y superficies para Galapagar\n",
        "total_precio_galapagar = galapagar['price'].sum()\n",
        "total_superficie_galapagar = galapagar['surface'].sum()\n",
        "promedio_galapagar = total_precio_galapagar / total_superficie_galapagar\n",
        "\n",
        "# Agregar los valores promedio solo a las filas correspondientes\n",
        "ds['pps'] = None  # Crear columna vacía para pps\n",
        "ds.loc[ds['level5'] == 'Valdemorillo', 'pps'] = promedio_valdemorillo\n",
        "ds.loc[ds['level5'] == 'Galapagar', 'pps'] = promedio_galapagar\n",
        "\n",
        "# Imprimir solo las filas correspondientes a Valdemorillo y Galapagar con pps\n",
        "print(ds[ds['level5'].isin(['Valdemorillo', 'Galapagar'])][['level5', 'pps']])\n"
      ]
    },
    {
      "cell_type": "markdown",
      "id": "87e730e6",
      "metadata": {},
      "source": [
        "El precio promedio/mt cuadrado en Galapagar es mas caro que el de Valdemorillo."
      ]
    },
    {
      "attachments": {},
      "cell_type": "markdown",
      "id": "pleasant-invite",
      "metadata": {},
      "source": [
        "#### Ejercicio 11. Analiza la relación entre la superficie y el precio de las casas. (★★☆)\n",
        "\n",
        "Pista: Puedes hacer un `scatter plot` y luego escribir una conclusión al respecto."
      ]
    },
    {
      "cell_type": "code",
      "execution_count": null,
      "id": "common-drilling",
      "metadata": {},
      "outputs": [],
      "source": [
        "# TODO: Código"
      ]
    },
    {
      "attachments": {},
      "cell_type": "markdown",
      "id": "ahead-liquid",
      "metadata": {},
      "source": [
        "**TODO: Markdown**. Para escribir aquí, haz doble clic en esta celda, elimina este contenido y coloca lo que quieras escribir. Luego ejecuta la celda."
      ]
    },
    {
      "attachments": {},
      "cell_type": "markdown",
      "id": "coordinate-sunrise",
      "metadata": {},
      "source": [
        "#### Ejercicio 12. ¿Cuántas agencia de bienes raíces contiene el dataset? (★★☆)\n",
        "\n",
        "Imprime el valor obtenido."
      ]
    },
    {
      "cell_type": "code",
      "execution_count": null,
      "id": "valid-honolulu",
      "metadata": {},
      "outputs": [],
      "source": [
        "# TODO"
      ]
    },
    {
      "attachments": {},
      "cell_type": "markdown",
      "id": "binding-ebony",
      "metadata": {},
      "source": [
        "#### Ejercicio 13. ¿Cuál es la población (columna level5) que contiene la mayor cantidad de casas?(★★☆)\n",
        "\n",
        "Imprima la población y el número de casas."
      ]
    },
    {
      "cell_type": "code",
      "execution_count": null,
      "id": "static-perry",
      "metadata": {},
      "outputs": [],
      "source": [
        "# TODO"
      ]
    },
    {
      "attachments": {},
      "cell_type": "markdown",
      "id": "entire-classification",
      "metadata": {},
      "source": [
        "#### Ejercicio 14. Ahora vamos a trabajar con el \"cinturón sur\" de Madrid. Haz un subconjunto del DataFrame original que contenga las siguientes poblaciones (columna level5): \"Fuenlabrada\", \"Leganés\", \"Getafe\", \"Alcorcón\" (★★☆)\n",
        "\n",
        "Pista: Filtra el DataFrame original usando la columna `level5` y la función `isin`."
      ]
    },
    {
      "cell_type": "code",
      "execution_count": null,
      "id": "binary-input",
      "metadata": {},
      "outputs": [],
      "source": [
        "# TODO"
      ]
    },
    {
      "attachments": {},
      "cell_type": "markdown",
      "id": "severe-fisher",
      "metadata": {},
      "source": [
        "#### Ejercicio 15. Traza un gráfico de barras de la mediana de los precios y explica lo que observas (debes usar el subconjunto obtenido del Ejercicio 14) (★★★)\n",
        "\n",
        "Imprima un gráfico de barras de la mediana de precios y escriba en la celda Markdown un breve análisis sobre el gráfico."
      ]
    },
    {
      "cell_type": "code",
      "execution_count": null,
      "id": "lyric-bunch",
      "metadata": {},
      "outputs": [],
      "source": [
        "# TODO: Code"
      ]
    },
    {
      "attachments": {},
      "cell_type": "markdown",
      "id": "sublime-newspaper",
      "metadata": {},
      "source": [
        "**TODO: Markdown**. Para escribir aquí, haz doble clic en esta celda, elimina este contenido y coloca lo que quieras escribir. Luego ejecuta la celda."
      ]
    },
    {
      "attachments": {},
      "cell_type": "markdown",
      "id": "speaking-diamond",
      "metadata": {},
      "source": [
        "#### Ejercicio 16. Calcula la media y la varianza de muestra para las siguientes variables: precio, habitaciones, superficie y baños (debes usar el subconjunto obtenido del Ejercicio 14) (★★★)\n",
        "\n",
        "Imprime ambos valores por cada variable."
      ]
    },
    {
      "cell_type": "code",
      "execution_count": null,
      "id": "random-feeling",
      "metadata": {},
      "outputs": [],
      "source": [
        "# TODO"
      ]
    },
    {
      "attachments": {},
      "cell_type": "markdown",
      "id": "revolutionary-matrix",
      "metadata": {},
      "source": [
        "#### Ejercicio 17. ¿Cuál es la casa más cara de cada población? Debes usar el subset obtenido en la pregunta 14 (★★☆)\n",
        "\n",
        "Imprime tanto la dirección como el precio de la casa seleccionada de cada población. Puedes imprimir un DataFrame o una sola línea para cada población."
      ]
    },
    {
      "cell_type": "code",
      "execution_count": null,
      "id": "fifteen-browse",
      "metadata": {},
      "outputs": [],
      "source": [
        "# TODO"
      ]
    },
    {
      "attachments": {},
      "cell_type": "markdown",
      "id": "activated-knight",
      "metadata": {},
      "source": [
        "#### Ejercicio 18. Normaliza la variable de precios para cada población y traza los 4 histogramas en el mismo gráfico (debes usar el subconjunto obtenido en la pregunta 14) (★★★)\n",
        "\n",
        "Para el método de normalización, puedes usar el que consideres adecuado, no hay una única respuesta correcta para esta pregunta. Imprime el gráfico y escribe en la celda de Markdown un breve análisis sobre el gráfico.\n",
        "\n",
        "Pista: Puedes ayudarte revisando la demostración multihist de Matplotlib."
      ]
    },
    {
      "cell_type": "code",
      "execution_count": null,
      "id": "civic-meditation",
      "metadata": {},
      "outputs": [],
      "source": [
        "# TODO"
      ]
    },
    {
      "attachments": {},
      "cell_type": "markdown",
      "id": "precise-heavy",
      "metadata": {},
      "source": [
        "**TODO: Markdown**. Para escribir aquí, haz doble clic en esta celda, elimina este contenido y coloca lo que quieras escribir. Luego ejecuta la celda."
      ]
    },
    {
      "attachments": {},
      "cell_type": "markdown",
      "id": "patent-jonathan",
      "metadata": {},
      "source": [
        "#### Ejercicio 19. ¿Qué puedes decir sobre el precio por metro cuadrado (precio/m2) entre los municipios de 'Getafe' y 'Alcorcón'? Debes usar el subconjunto obtenido en la pregunta 14 (★★☆)\n",
        "\n",
        "Pista: Crea una nueva columna llamada `pps` (price per square en inglés) y luego analiza los valores"
      ]
    },
    {
      "cell_type": "code",
      "execution_count": null,
      "id": "initial-liverpool",
      "metadata": {},
      "outputs": [],
      "source": [
        "# TODO"
      ]
    },
    {
      "attachments": {},
      "cell_type": "markdown",
      "id": "enhanced-moscow",
      "metadata": {},
      "source": [
        "#### Ejercicio 20. Realiza el mismo gráfico para 4 poblaciones diferentes (columna level5) y colócalos en el mismo gráfico. Debes usar el subconjunto obtenido en la pregunta 14 (★★☆) \n",
        "Pista: Haz un diagrama de dispersión de cada población usando subgráficos (subplots)."
      ]
    },
    {
      "cell_type": "code",
      "execution_count": null,
      "id": "accepting-airfare",
      "metadata": {},
      "outputs": [],
      "source": [
        "# TODO"
      ]
    },
    {
      "attachments": {},
      "cell_type": "markdown",
      "id": "blocked-effects",
      "metadata": {},
      "source": [
        "#### Ejercicio 21. Realiza un trazado de las coordenadas (columnas latitud y longitud) del cinturón sur de Madrid por color de cada población (debes usar el subconjunto obtenido del Ejercicio 14) (★★★★)\n",
        "\n",
        "Ejecuta la siguiente celda y luego comienza a codear en la siguiente. Debes implementar un código simple que transforme las columnas de coordenadas en un diccionario de Python (agrega más información si es necesario) y agrégala al mapa."
      ]
    },
    {
      "cell_type": "code",
      "execution_count": null,
      "id": "headed-privacy",
      "metadata": {},
      "outputs": [],
      "source": [
        "from ipyleaflet import Map, basemaps\n",
        "\n",
        "# Mapa centrado en (60 grados latitud y -2.2 grados longitud)\n",
        "# Latitud, longitud\n",
        "map = Map(center = (60, -2.2), zoom = 2, min_zoom = 1, max_zoom = 20, \n",
        "    basemap=basemaps.Stamen.Terrain)\n",
        "map"
      ]
    },
    {
      "cell_type": "code",
      "execution_count": null,
      "id": "present-mistress",
      "metadata": {},
      "outputs": [],
      "source": [
        "## Aquí: traza la coordenadas de los estados\n",
        "\n",
        "## PON TU CÓDIGO AQUÍ:\n"
      ]
    }
  ],
  "metadata": {
    "kernelspec": {
      "display_name": "Python 3",
      "language": "python",
      "name": "python3"
    },
    "language_info": {
      "codemirror_mode": {
        "name": "ipython",
        "version": 3
      },
      "file_extension": ".py",
      "mimetype": "text/x-python",
      "name": "python",
      "nbconvert_exporter": "python",
      "pygments_lexer": "ipython3",
      "version": "3.11.4"
    }
  },
  "nbformat": 4,
  "nbformat_minor": 5
}
